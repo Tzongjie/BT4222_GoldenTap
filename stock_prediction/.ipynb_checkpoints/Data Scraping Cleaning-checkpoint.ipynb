{
 "cells": [
  {
   "cell_type": "markdown",
   "metadata": {},
   "source": [
    "# Data Scraping\n",
    "Retrieve Stock Data from Yahoo Finance\n",
    "+ company list comes from NASDAQ.com\n",
    "+ no. of IT firms: 617"
   ]
  },
  {
   "cell_type": "code",
   "execution_count": null,
   "metadata": {
    "collapsed": true
   },
   "outputs": [],
   "source": [
    "# !pip install pandas-datareader\n",
    "# !pip install fix-yahoo-finance"
   ]
  },
  {
   "cell_type": "code",
   "execution_count": 1,
   "metadata": {
    "collapsed": true
   },
   "outputs": [],
   "source": [
    "import pandas as pd\n",
    "from pandas_datareader import data as pdr\n",
    "import fix_yahoo_finance\n",
    "import os"
   ]
  },
  {
   "cell_type": "markdown",
   "metadata": {},
   "source": [
    "# Section 1: Read in list of stock company details"
   ]
  },
  {
   "cell_type": "code",
   "execution_count": 64,
   "metadata": {
    "collapsed": true
   },
   "outputs": [],
   "source": [
    "# get list of companies to scrape from Yahoo Finance\n",
    "stock_symbols = pd.read_csv('companylist.csv')\n",
    "list_of_stocks = list(stock_symbols['Symbol'])\n",
    "\n",
    "path = './stock_data/'"
   ]
  },
  {
   "cell_type": "markdown",
   "metadata": {},
   "source": [
    "# Section 2: Scrape stock data from Yahoo Finance"
   ]
  },
  {
   "cell_type": "code",
   "execution_count": null,
   "metadata": {},
   "outputs": [],
   "source": [
    "# create folder to store retrieved stock data\n",
    "if((os.path.exists('stock_data'))==False):\n",
    "    os.mkdir(path)\n",
    "\n",
    "# scraping code for Yahoo Finance\n",
    "dont_exist = 0\n",
    "counter = 0\n",
    "for symbol in list_of_stocks:\n",
    "    print(\"beginning...\")\n",
    "    counter = counter + 1\n",
    "    if (counter % 50 ==0):\n",
    "        print(\"still running... currently at \"+ str(counter) + \"th row, \" + symbol)\n",
    "    \n",
    "    try:\n",
    "        data = pdr.get_data_yahoo(symbol, start='2016-02-18', end='2019-02-22') # returns 1 additional day before start_date\n",
    "        data.to_csv(path+symbol+'.csv')\n",
    "    except Exception:\n",
    "        dont_exist = dont_exist + 1\n",
    "        print(str(counter) + \" \" + symbol + \" does not exist\")\n",
    "        pass\n",
    "\n",
    "print(\"end\")\n",
    "print(str(dont_exist)+\" stock symbols do not exist\") # 7"
   ]
  },
  {
   "cell_type": "code",
   "execution_count": 76,
   "metadata": {},
   "outputs": [
    {
     "name": "stdout",
     "output_type": "stream",
     "text": [
      "610\n"
     ]
    }
   ],
   "source": [
    "# Look at items in the folder\n",
    "import glob\n",
    "file_paths = glob.glob(path + '*.csv' )\n",
    "len(file_paths)\n",
    "\n",
    "filtered_list = []\n",
    "\n",
    "for f in file_paths:\n",
    "    filtered_list.append( (f.split(\"\\\\\")[1]).split(\".\")[0] )\n",
    "    \n",
    "\n",
    "print(len(filtered_list))\n",
    "# print(filtered_list)"
   ]
  },
  {
   "cell_type": "markdown",
   "metadata": {},
   "source": [
    "# Section 3: Data Cleaning\n",
    "Remove csv files whose company does not have 3 years' worth of stock data\n",
    "\n",
    "+ Date Range: 2016-02-17 to 2019-02-22\n",
    "+ NASDAQ has an average of 253 trading days per year. Therefore 253 * 3 + 1 leap day in 2016 = 760 rows per company"
   ]
  },
  {
   "cell_type": "code",
   "execution_count": 90,
   "metadata": {},
   "outputs": [
    {
     "name": "stdout",
     "output_type": "stream",
     "text": [
      "121 companies removed\n",
      "489 companies remaining\n"
     ]
    }
   ],
   "source": [
    "remained = 0\n",
    "removed = 0\n",
    "\n",
    "for symbol in filtered_list:\n",
    "    curr = pd.read_csv(path+symbol+'.csv')\n",
    "    if (curr.shape[0] != 760): # 1 trading year has an average of 253 trading days per year. 253 * 3 + 1 leap day in 2016 = 760\n",
    "        removed = removed + 1\n",
    "        os.remove(path+symbol+'.csv')\n",
    "    else:\n",
    "        remained = remained + 1\n",
    "    \n",
    "print(str(removed)+\" companies removed\")\n",
    "print(str(remained)+ \" companies remaining\")"
   ]
  },
  {
   "cell_type": "code",
   "execution_count": 93,
   "metadata": {},
   "outputs": [
    {
     "name": "stdout",
     "output_type": "stream",
     "text": [
      "489\n"
     ]
    }
   ],
   "source": [
    "# Look at items in the folder. update list_of_stocks\n",
    "file_paths = glob.glob(path + '*.csv' )\n",
    "len(file_paths)\n",
    "\n",
    "filtered_list = []\n",
    "\n",
    "for f in file_paths:\n",
    "    filtered_list.append( (f.split(\"\\\\\")[1]).split(\".\")[0] )\n",
    "    \n",
    "print(len(filtered_list))\n",
    "# print(filtered_list)"
   ]
  },
  {
   "cell_type": "markdown",
   "metadata": {},
   "source": [
    "### Export remaining list of stock company symbols\n",
    "This list will be used in the 'Stock Prediction Model' jupyter notebook"
   ]
  },
  {
   "cell_type": "code",
   "execution_count": 94,
   "metadata": {},
   "outputs": [
    {
     "name": "stdout",
     "output_type": "stream",
     "text": [
      "done\n"
     ]
    }
   ],
   "source": [
    "# write the updated stock company list into a csv file for easy future access\n",
    "file = open('updated_companylist.csv','w')\n",
    "\n",
    "for each in filtered_list:\n",
    "    file.write(each)\n",
    "    file.write('\\n')\n",
    "\n",
    "file.close()\n",
    "print(\"done\")"
   ]
  }
 ],
 "metadata": {
  "kernelspec": {
   "display_name": "Python 3",
   "language": "python",
   "name": "python3"
  },
  "language_info": {
   "codemirror_mode": {
    "name": "ipython",
    "version": 3
   },
   "file_extension": ".py",
   "mimetype": "text/x-python",
   "name": "python",
   "nbconvert_exporter": "python",
   "pygments_lexer": "ipython3",
   "version": "3.6.3"
  }
 },
 "nbformat": 4,
 "nbformat_minor": 2
}
